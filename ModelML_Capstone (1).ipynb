{
  "nbformat": 4,
  "nbformat_minor": 0,
  "metadata": {
    "colab": {
      "provenance": []
    },
    "kernelspec": {
      "name": "python3",
      "display_name": "Python 3"
    },
    "language_info": {
      "name": "python"
    }
  },
  "cells": [
    {
      "cell_type": "markdown",
      "source": [
        "**MANG BELI**\n",
        "\n",
        "---\n",
        "\n",
        "Fitur ML :\n",
        "\n",
        "\n",
        "1.   Memprediksi Jadwal Pedagang dan lokasinya (CNN)\n",
        "2.   Mencari rute terdekat (Teori Graph)\n",
        "\n"
      ],
      "metadata": {
        "id": "epXSfhITnQvh"
      }
    },
    {
      "cell_type": "markdown",
      "source": [
        "# **MODEL ML**"
      ],
      "metadata": {
        "id": "GtvpMVMEoUIf"
      }
    },
    {
      "cell_type": "code",
      "execution_count": null,
      "metadata": {
        "id": "InWfSqpCnJ5Q"
      },
      "outputs": [],
      "source": [
        "# Import Library\n",
        "import tensorflow as tf\n",
        "from tensorflow.keras.models import Sequential\n",
        "from tensorflow.keras.layers import Dense\n",
        "\n",
        "import numpy as np\n",
        "import pandas as pd\n",
        "import seaborn as sns\n",
        "\n",
        "from sklearn.preprocessing import StandardScaler, PolynomialFeatures\n",
        "from sklearn.linear_model import LinearRegression\n",
        "from sklearn.metrics import mean_squared_error\n",
        "from sklearn.model_selection import train_test_split"
      ]
    },
    {
      "cell_type": "code",
      "source": [
        "#membaca dataset\n",
        "lokasi = pd.read_csv(\"/content/Data_Cleaning - Sheet1.csv\")\n",
        "print(lokasi.count())\n",
        "lokasi"
      ],
      "metadata": {
        "colab": {
          "base_uri": "https://localhost:8080/",
          "height": 718
        },
        "id": "ILB900YRXB9g",
        "outputId": "cde24300-440e-4186-a579-d4bad3116b93"
      },
      "execution_count": null,
      "outputs": [
        {
          "output_type": "stream",
          "name": "stdout",
          "text": [
            "nama_pedagang           1454\n",
            "alamat_lokasi_dagang    1454\n",
            "jenis_dagangan          1454\n",
            "latitude                1454\n",
            "longitude               1454\n",
            "wilayah                 1454\n",
            "dtype: int64\n"
          ]
        },
        {
          "output_type": "execute_result",
          "data": {
            "text/plain": [
              "           nama_pedagang                               alamat_lokasi_dagang  \\\n",
              "0             MASRI IMAI                                          JL. TAWES   \n",
              "1                  RAKIM                                          JL. TAWES   \n",
              "2                  ABUNG                                          JL. TAWES   \n",
              "3                  SARAH                                          JL. TAWES   \n",
              "4            SRI HARTATI                                          JL. TAWES   \n",
              "...                  ...                                                ...   \n",
              "1449               FREDI                      JL. GONGSENG RAYA RT001/RW010   \n",
              "1450    TB. ANDI RUKANDI                     JL. DUKUH 5 RT007/RW005 NO. 17   \n",
              "1451             SUPARTI                    JL. DR. GOWO RT005/RW002, JIWAN   \n",
              "1452  KAMALIYAH TUROSIDA      JL. RS. POLRI NO. 41 RT010/RW004, KRAMAT JATI   \n",
              "1453   MAYATUL ZAMZAMIYA  JL. NUSA I RT010/RW004, KRAMAT JATI, JAKARTA T...   \n",
              "\n",
              "     jenis_dagangan      latitude     longitude        wilayah  \n",
              "0       NON KULINER  -006,1122794  0106,8823569  Jakarta Utara  \n",
              "1       NON KULINER  -006,1122794  0106,8823569  Jakarta Utara  \n",
              "2       NON KULINER  -006,1122794  0106,8823569  Jakarta Utara  \n",
              "3           KULINER  -006,1122794  0106,8823569  Jakarta Utara  \n",
              "4       NON KULINER  -006,1122794  0106,8823569  Jakarta Utara  \n",
              "...             ...           ...           ...            ...  \n",
              "1449        Listrik     6.267.781   106.869.259  JAKARTA TIMUR  \n",
              "1450        Listrik     6.267.781    10.686.926  JAKARTA TIMUR  \n",
              "1451        Sayuran     6.267.781   106.869.261  JAKARTA TIMUR  \n",
              "1452         Makmin     6.267.781   106.869.262  JAKARTA TIMUR  \n",
              "1453        Sembako     6.267.781   106.869.263  JAKARTA TIMUR  \n",
              "\n",
              "[1454 rows x 6 columns]"
            ],
            "text/html": [
              "\n",
              "  <div id=\"df-daf8fac8-a334-4d24-bd23-68b5ae7f3f3d\" class=\"colab-df-container\">\n",
              "    <div>\n",
              "<style scoped>\n",
              "    .dataframe tbody tr th:only-of-type {\n",
              "        vertical-align: middle;\n",
              "    }\n",
              "\n",
              "    .dataframe tbody tr th {\n",
              "        vertical-align: top;\n",
              "    }\n",
              "\n",
              "    .dataframe thead th {\n",
              "        text-align: right;\n",
              "    }\n",
              "</style>\n",
              "<table border=\"1\" class=\"dataframe\">\n",
              "  <thead>\n",
              "    <tr style=\"text-align: right;\">\n",
              "      <th></th>\n",
              "      <th>nama_pedagang</th>\n",
              "      <th>alamat_lokasi_dagang</th>\n",
              "      <th>jenis_dagangan</th>\n",
              "      <th>latitude</th>\n",
              "      <th>longitude</th>\n",
              "      <th>wilayah</th>\n",
              "    </tr>\n",
              "  </thead>\n",
              "  <tbody>\n",
              "    <tr>\n",
              "      <th>0</th>\n",
              "      <td>MASRI IMAI</td>\n",
              "      <td>JL. TAWES</td>\n",
              "      <td>NON KULINER</td>\n",
              "      <td>-006,1122794</td>\n",
              "      <td>0106,8823569</td>\n",
              "      <td>Jakarta Utara</td>\n",
              "    </tr>\n",
              "    <tr>\n",
              "      <th>1</th>\n",
              "      <td>RAKIM</td>\n",
              "      <td>JL. TAWES</td>\n",
              "      <td>NON KULINER</td>\n",
              "      <td>-006,1122794</td>\n",
              "      <td>0106,8823569</td>\n",
              "      <td>Jakarta Utara</td>\n",
              "    </tr>\n",
              "    <tr>\n",
              "      <th>2</th>\n",
              "      <td>ABUNG</td>\n",
              "      <td>JL. TAWES</td>\n",
              "      <td>NON KULINER</td>\n",
              "      <td>-006,1122794</td>\n",
              "      <td>0106,8823569</td>\n",
              "      <td>Jakarta Utara</td>\n",
              "    </tr>\n",
              "    <tr>\n",
              "      <th>3</th>\n",
              "      <td>SARAH</td>\n",
              "      <td>JL. TAWES</td>\n",
              "      <td>KULINER</td>\n",
              "      <td>-006,1122794</td>\n",
              "      <td>0106,8823569</td>\n",
              "      <td>Jakarta Utara</td>\n",
              "    </tr>\n",
              "    <tr>\n",
              "      <th>4</th>\n",
              "      <td>SRI HARTATI</td>\n",
              "      <td>JL. TAWES</td>\n",
              "      <td>NON KULINER</td>\n",
              "      <td>-006,1122794</td>\n",
              "      <td>0106,8823569</td>\n",
              "      <td>Jakarta Utara</td>\n",
              "    </tr>\n",
              "    <tr>\n",
              "      <th>...</th>\n",
              "      <td>...</td>\n",
              "      <td>...</td>\n",
              "      <td>...</td>\n",
              "      <td>...</td>\n",
              "      <td>...</td>\n",
              "      <td>...</td>\n",
              "    </tr>\n",
              "    <tr>\n",
              "      <th>1449</th>\n",
              "      <td>FREDI</td>\n",
              "      <td>JL. GONGSENG RAYA RT001/RW010</td>\n",
              "      <td>Listrik</td>\n",
              "      <td>6.267.781</td>\n",
              "      <td>106.869.259</td>\n",
              "      <td>JAKARTA TIMUR</td>\n",
              "    </tr>\n",
              "    <tr>\n",
              "      <th>1450</th>\n",
              "      <td>TB. ANDI RUKANDI</td>\n",
              "      <td>JL. DUKUH 5 RT007/RW005 NO. 17</td>\n",
              "      <td>Listrik</td>\n",
              "      <td>6.267.781</td>\n",
              "      <td>10.686.926</td>\n",
              "      <td>JAKARTA TIMUR</td>\n",
              "    </tr>\n",
              "    <tr>\n",
              "      <th>1451</th>\n",
              "      <td>SUPARTI</td>\n",
              "      <td>JL. DR. GOWO RT005/RW002, JIWAN</td>\n",
              "      <td>Sayuran</td>\n",
              "      <td>6.267.781</td>\n",
              "      <td>106.869.261</td>\n",
              "      <td>JAKARTA TIMUR</td>\n",
              "    </tr>\n",
              "    <tr>\n",
              "      <th>1452</th>\n",
              "      <td>KAMALIYAH TUROSIDA</td>\n",
              "      <td>JL. RS. POLRI NO. 41 RT010/RW004, KRAMAT JATI</td>\n",
              "      <td>Makmin</td>\n",
              "      <td>6.267.781</td>\n",
              "      <td>106.869.262</td>\n",
              "      <td>JAKARTA TIMUR</td>\n",
              "    </tr>\n",
              "    <tr>\n",
              "      <th>1453</th>\n",
              "      <td>MAYATUL ZAMZAMIYA</td>\n",
              "      <td>JL. NUSA I RT010/RW004, KRAMAT JATI, JAKARTA T...</td>\n",
              "      <td>Sembako</td>\n",
              "      <td>6.267.781</td>\n",
              "      <td>106.869.263</td>\n",
              "      <td>JAKARTA TIMUR</td>\n",
              "    </tr>\n",
              "  </tbody>\n",
              "</table>\n",
              "<p>1454 rows × 6 columns</p>\n",
              "</div>\n",
              "    <div class=\"colab-df-buttons\">\n",
              "\n",
              "  <div class=\"colab-df-container\">\n",
              "    <button class=\"colab-df-convert\" onclick=\"convertToInteractive('df-daf8fac8-a334-4d24-bd23-68b5ae7f3f3d')\"\n",
              "            title=\"Convert this dataframe to an interactive table.\"\n",
              "            style=\"display:none;\">\n",
              "\n",
              "  <svg xmlns=\"http://www.w3.org/2000/svg\" height=\"24px\" viewBox=\"0 -960 960 960\">\n",
              "    <path d=\"M120-120v-720h720v720H120Zm60-500h600v-160H180v160Zm220 220h160v-160H400v160Zm0 220h160v-160H400v160ZM180-400h160v-160H180v160Zm440 0h160v-160H620v160ZM180-180h160v-160H180v160Zm440 0h160v-160H620v160Z\"/>\n",
              "  </svg>\n",
              "    </button>\n",
              "\n",
              "  <style>\n",
              "    .colab-df-container {\n",
              "      display:flex;\n",
              "      gap: 12px;\n",
              "    }\n",
              "\n",
              "    .colab-df-convert {\n",
              "      background-color: #E8F0FE;\n",
              "      border: none;\n",
              "      border-radius: 50%;\n",
              "      cursor: pointer;\n",
              "      display: none;\n",
              "      fill: #1967D2;\n",
              "      height: 32px;\n",
              "      padding: 0 0 0 0;\n",
              "      width: 32px;\n",
              "    }\n",
              "\n",
              "    .colab-df-convert:hover {\n",
              "      background-color: #E2EBFA;\n",
              "      box-shadow: 0px 1px 2px rgba(60, 64, 67, 0.3), 0px 1px 3px 1px rgba(60, 64, 67, 0.15);\n",
              "      fill: #174EA6;\n",
              "    }\n",
              "\n",
              "    .colab-df-buttons div {\n",
              "      margin-bottom: 4px;\n",
              "    }\n",
              "\n",
              "    [theme=dark] .colab-df-convert {\n",
              "      background-color: #3B4455;\n",
              "      fill: #D2E3FC;\n",
              "    }\n",
              "\n",
              "    [theme=dark] .colab-df-convert:hover {\n",
              "      background-color: #434B5C;\n",
              "      box-shadow: 0px 1px 3px 1px rgba(0, 0, 0, 0.15);\n",
              "      filter: drop-shadow(0px 1px 2px rgba(0, 0, 0, 0.3));\n",
              "      fill: #FFFFFF;\n",
              "    }\n",
              "  </style>\n",
              "\n",
              "    <script>\n",
              "      const buttonEl =\n",
              "        document.querySelector('#df-daf8fac8-a334-4d24-bd23-68b5ae7f3f3d button.colab-df-convert');\n",
              "      buttonEl.style.display =\n",
              "        google.colab.kernel.accessAllowed ? 'block' : 'none';\n",
              "\n",
              "      async function convertToInteractive(key) {\n",
              "        const element = document.querySelector('#df-daf8fac8-a334-4d24-bd23-68b5ae7f3f3d');\n",
              "        const dataTable =\n",
              "          await google.colab.kernel.invokeFunction('convertToInteractive',\n",
              "                                                    [key], {});\n",
              "        if (!dataTable) return;\n",
              "\n",
              "        const docLinkHtml = 'Like what you see? Visit the ' +\n",
              "          '<a target=\"_blank\" href=https://colab.research.google.com/notebooks/data_table.ipynb>data table notebook</a>'\n",
              "          + ' to learn more about interactive tables.';\n",
              "        element.innerHTML = '';\n",
              "        dataTable['output_type'] = 'display_data';\n",
              "        await google.colab.output.renderOutput(dataTable, element);\n",
              "        const docLink = document.createElement('div');\n",
              "        docLink.innerHTML = docLinkHtml;\n",
              "        element.appendChild(docLink);\n",
              "      }\n",
              "    </script>\n",
              "  </div>\n",
              "\n",
              "\n",
              "<div id=\"df-ef0a4d9d-0d27-4261-b61b-0daf7da4f921\">\n",
              "  <button class=\"colab-df-quickchart\" onclick=\"quickchart('df-ef0a4d9d-0d27-4261-b61b-0daf7da4f921')\"\n",
              "            title=\"Suggest charts\"\n",
              "            style=\"display:none;\">\n",
              "\n",
              "<svg xmlns=\"http://www.w3.org/2000/svg\" height=\"24px\"viewBox=\"0 0 24 24\"\n",
              "     width=\"24px\">\n",
              "    <g>\n",
              "        <path d=\"M19 3H5c-1.1 0-2 .9-2 2v14c0 1.1.9 2 2 2h14c1.1 0 2-.9 2-2V5c0-1.1-.9-2-2-2zM9 17H7v-7h2v7zm4 0h-2V7h2v10zm4 0h-2v-4h2v4z\"/>\n",
              "    </g>\n",
              "</svg>\n",
              "  </button>\n",
              "\n",
              "<style>\n",
              "  .colab-df-quickchart {\n",
              "      --bg-color: #E8F0FE;\n",
              "      --fill-color: #1967D2;\n",
              "      --hover-bg-color: #E2EBFA;\n",
              "      --hover-fill-color: #174EA6;\n",
              "      --disabled-fill-color: #AAA;\n",
              "      --disabled-bg-color: #DDD;\n",
              "  }\n",
              "\n",
              "  [theme=dark] .colab-df-quickchart {\n",
              "      --bg-color: #3B4455;\n",
              "      --fill-color: #D2E3FC;\n",
              "      --hover-bg-color: #434B5C;\n",
              "      --hover-fill-color: #FFFFFF;\n",
              "      --disabled-bg-color: #3B4455;\n",
              "      --disabled-fill-color: #666;\n",
              "  }\n",
              "\n",
              "  .colab-df-quickchart {\n",
              "    background-color: var(--bg-color);\n",
              "    border: none;\n",
              "    border-radius: 50%;\n",
              "    cursor: pointer;\n",
              "    display: none;\n",
              "    fill: var(--fill-color);\n",
              "    height: 32px;\n",
              "    padding: 0;\n",
              "    width: 32px;\n",
              "  }\n",
              "\n",
              "  .colab-df-quickchart:hover {\n",
              "    background-color: var(--hover-bg-color);\n",
              "    box-shadow: 0 1px 2px rgba(60, 64, 67, 0.3), 0 1px 3px 1px rgba(60, 64, 67, 0.15);\n",
              "    fill: var(--button-hover-fill-color);\n",
              "  }\n",
              "\n",
              "  .colab-df-quickchart-complete:disabled,\n",
              "  .colab-df-quickchart-complete:disabled:hover {\n",
              "    background-color: var(--disabled-bg-color);\n",
              "    fill: var(--disabled-fill-color);\n",
              "    box-shadow: none;\n",
              "  }\n",
              "\n",
              "  .colab-df-spinner {\n",
              "    border: 2px solid var(--fill-color);\n",
              "    border-color: transparent;\n",
              "    border-bottom-color: var(--fill-color);\n",
              "    animation:\n",
              "      spin 1s steps(1) infinite;\n",
              "  }\n",
              "\n",
              "  @keyframes spin {\n",
              "    0% {\n",
              "      border-color: transparent;\n",
              "      border-bottom-color: var(--fill-color);\n",
              "      border-left-color: var(--fill-color);\n",
              "    }\n",
              "    20% {\n",
              "      border-color: transparent;\n",
              "      border-left-color: var(--fill-color);\n",
              "      border-top-color: var(--fill-color);\n",
              "    }\n",
              "    30% {\n",
              "      border-color: transparent;\n",
              "      border-left-color: var(--fill-color);\n",
              "      border-top-color: var(--fill-color);\n",
              "      border-right-color: var(--fill-color);\n",
              "    }\n",
              "    40% {\n",
              "      border-color: transparent;\n",
              "      border-right-color: var(--fill-color);\n",
              "      border-top-color: var(--fill-color);\n",
              "    }\n",
              "    60% {\n",
              "      border-color: transparent;\n",
              "      border-right-color: var(--fill-color);\n",
              "    }\n",
              "    80% {\n",
              "      border-color: transparent;\n",
              "      border-right-color: var(--fill-color);\n",
              "      border-bottom-color: var(--fill-color);\n",
              "    }\n",
              "    90% {\n",
              "      border-color: transparent;\n",
              "      border-bottom-color: var(--fill-color);\n",
              "    }\n",
              "  }\n",
              "</style>\n",
              "\n",
              "  <script>\n",
              "    async function quickchart(key) {\n",
              "      const quickchartButtonEl =\n",
              "        document.querySelector('#' + key + ' button');\n",
              "      quickchartButtonEl.disabled = true;  // To prevent multiple clicks.\n",
              "      quickchartButtonEl.classList.add('colab-df-spinner');\n",
              "      try {\n",
              "        const charts = await google.colab.kernel.invokeFunction(\n",
              "            'suggestCharts', [key], {});\n",
              "      } catch (error) {\n",
              "        console.error('Error during call to suggestCharts:', error);\n",
              "      }\n",
              "      quickchartButtonEl.classList.remove('colab-df-spinner');\n",
              "      quickchartButtonEl.classList.add('colab-df-quickchart-complete');\n",
              "    }\n",
              "    (() => {\n",
              "      let quickchartButtonEl =\n",
              "        document.querySelector('#df-ef0a4d9d-0d27-4261-b61b-0daf7da4f921 button');\n",
              "      quickchartButtonEl.style.display =\n",
              "        google.colab.kernel.accessAllowed ? 'block' : 'none';\n",
              "    })();\n",
              "  </script>\n",
              "</div>\n",
              "    </div>\n",
              "  </div>\n"
            ]
          },
          "metadata": {},
          "execution_count": 9
        }
      ]
    },
    {
      "cell_type": "code",
      "source": [
        "# Informasi dataset\n",
        "lokasi.info()"
      ],
      "metadata": {
        "colab": {
          "base_uri": "https://localhost:8080/"
        },
        "id": "tnhadZ79XShv",
        "outputId": "20c5a8a1-070f-4101-b7ff-571bd83ed5c3"
      },
      "execution_count": null,
      "outputs": [
        {
          "output_type": "stream",
          "name": "stdout",
          "text": [
            "<class 'pandas.core.frame.DataFrame'>\n",
            "RangeIndex: 1454 entries, 0 to 1453\n",
            "Data columns (total 6 columns):\n",
            " #   Column                Non-Null Count  Dtype \n",
            "---  ------                --------------  ----- \n",
            " 0   nama_pedagang         1454 non-null   object\n",
            " 1   alamat_lokasi_dagang  1454 non-null   object\n",
            " 2   jenis_dagangan        1454 non-null   object\n",
            " 3   latitude              1454 non-null   object\n",
            " 4   longitude             1454 non-null   object\n",
            " 5   wilayah               1454 non-null   object\n",
            "dtypes: object(6)\n",
            "memory usage: 68.3+ KB\n"
          ]
        }
      ]
    },
    {
      "cell_type": "code",
      "source": [
        "lokasi.isnull().sum()"
      ],
      "metadata": {
        "colab": {
          "base_uri": "https://localhost:8080/"
        },
        "id": "W8540ISsXXeW",
        "outputId": "c88fa5b8-ce5a-451c-d2ee-8045115037c5"
      },
      "execution_count": null,
      "outputs": [
        {
          "output_type": "execute_result",
          "data": {
            "text/plain": [
              "nama_pedagang           0\n",
              "alamat_lokasi_dagang    0\n",
              "jenis_dagangan          0\n",
              "latitude                0\n",
              "longitude               0\n",
              "wilayah                 0\n",
              "dtype: int64"
            ]
          },
          "metadata": {},
          "execution_count": 11
        }
      ]
    },
    {
      "cell_type": "code",
      "source": [
        "# lokasi_cleaned = lokasi.dropna()"
      ],
      "metadata": {
        "id": "IIPd8p3iHOfh"
      },
      "execution_count": null,
      "outputs": []
    },
    {
      "cell_type": "code",
      "source": [
        "# lokasi_cleaned.isnull().sum()"
      ],
      "metadata": {
        "colab": {
          "base_uri": "https://localhost:8080/"
        },
        "id": "qR75ZLhaHkAe",
        "outputId": "d89dffde-0445-49f2-e538-06e8c73dec05"
      },
      "execution_count": null,
      "outputs": [
        {
          "output_type": "execute_result",
          "data": {
            "text/plain": [
              "nama_pedagang           0\n",
              "alamat_lokasi_dagang    0\n",
              "nomor_kios              0\n",
              "jenis_dagangan          0\n",
              "latitude                0\n",
              "longitude               0\n",
              "wilayah                 0\n",
              "dtype: int64"
            ]
          },
          "metadata": {},
          "execution_count": 18
        }
      ]
    },
    {
      "cell_type": "code",
      "source": [
        "# mean = lokasi['latitude'].mean()\n",
        "# lokasi['latitude'].replace(np.nan, mean, inplace = True)"
      ],
      "metadata": {
        "id": "o5RgeHjCY4Aw"
      },
      "execution_count": null,
      "outputs": []
    },
    {
      "cell_type": "code",
      "source": [
        "# mean = lokasi['longitude'].mean()\n",
        "# lokasi['longitude'].replace(np.nan, mean, inplace = True)"
      ],
      "metadata": {
        "id": "Tc7eQHKjY_QM"
      },
      "execution_count": null,
      "outputs": []
    },
    {
      "cell_type": "code",
      "source": [
        "features = [\"nama_pedagang\", \"alamat_lokasi_dagang\", \"nomor_kios\", \"jenis_dagangan\", \"latitude\", \"longitude\"]\n",
        "X = lokasi[features]\n",
        "Y = lokasi['wilayah']\n",
        "\n",
        "X_train, X_test, y_train, y_test = train_test_split(X, Y, test_size=0.2, random_state=1)"
      ],
      "metadata": {
        "id": "oVxfQXqpacpn"
      },
      "execution_count": null,
      "outputs": []
    },
    {
      "cell_type": "code",
      "source": [
        "print(\"ukuran data training dan testing\")\n",
        "print(\"ukuran data training\", X_train.shape, y_train.shape)\n",
        "print(\"ukuran data testing\", X_test.shape, y_test.shape)"
      ],
      "metadata": {
        "colab": {
          "base_uri": "https://localhost:8080/"
        },
        "id": "trHlIU_1a65j",
        "outputId": "5c97fa1b-5bc1-4882-e742-74fa2515d351"
      },
      "execution_count": null,
      "outputs": [
        {
          "output_type": "stream",
          "name": "stdout",
          "text": [
            "ukuran data training dan testing\n",
            "ukuran data training (669, 6) (669,)\n",
            "ukuran data testing (168, 6) (168,)\n"
          ]
        }
      ]
    },
    {
      "cell_type": "code",
      "source": [
        "# Inputan dimensi fitur\n",
        "model = Sequential()\n",
        "model.add(Dense(units=1, input_dim=2))  # Sesuaikan input_dim dengan jumlah fitur Anda"
      ],
      "metadata": {
        "id": "kIE-HH1lnjbc"
      },
      "execution_count": null,
      "outputs": []
    },
    {
      "cell_type": "code",
      "source": [
        "# Menenentukan optimizer, loss function, dan metrik evaluasi\n",
        "model.compile(optimizer='adam', loss='mean_squared_error', metrics=['mae'])"
      ],
      "metadata": {
        "id": "k9HYChNPnwli"
      },
      "execution_count": null,
      "outputs": []
    },
    {
      "cell_type": "code",
      "source": [
        "# Melatih Model\n",
        "model.fit(X_train, y_train, epochs=10, batch_size=100, validation_data=(X_train, y_train))"
      ],
      "metadata": {
        "id": "4kewkI6fn5Vo"
      },
      "execution_count": null,
      "outputs": []
    },
    {
      "cell_type": "code",
      "source": [
        "# Evaluasi Model\n",
        "loss, mae = model.evaluate(X_test, y_test)"
      ],
      "metadata": {
        "id": "4783outzoG_s"
      },
      "execution_count": null,
      "outputs": []
    },
    {
      "cell_type": "code",
      "source": [
        "# Prediksi Sesuai Dataset\n",
        "predictions = model.predict(X_new_data)"
      ],
      "metadata": {
        "id": "ZNYTNEUaoMAS"
      },
      "execution_count": null,
      "outputs": []
    },
    {
      "cell_type": "markdown",
      "source": [
        "# **Fitur Prediksi Jadwal dan Lokasi**"
      ],
      "metadata": {
        "id": "MWhtxIU_odtQ"
      }
    },
    {
      "cell_type": "code",
      "source": [
        "# Import Library\n",
        "import numpy as np\n",
        "import tensorflow as tf\n",
        "from sklearn.model_selection import train_test_split\n",
        "from sklearn.preprocessing import StandardScaler"
      ],
      "metadata": {
        "id": "sheHiy6xojIs"
      },
      "execution_count": null,
      "outputs": []
    },
    {
      "cell_type": "code",
      "source": [
        "# Misalnya, kita memiliki dua fitur: jumlah buka dan tutup jadwal\n",
        "open = np.array([2, 3, 4, 5, 6])\n",
        "closed = np.array([1, 2, 1, 2, 1])\n",
        "schedule = np.array([5, 8, 10, 12, 15])"
      ],
      "metadata": {
        "id": "ilvit3DUo1C-"
      },
      "execution_count": null,
      "outputs": []
    },
    {
      "cell_type": "code",
      "source": [
        "# Gabungkan fitur menjadi satu matriks fitur\n",
        "features = np.column_stack((open, closed))"
      ],
      "metadata": {
        "id": "gUu0T_P0pCo7"
      },
      "execution_count": null,
      "outputs": []
    },
    {
      "cell_type": "code",
      "source": [
        "# Bagi data menjadi data pelatihan dan data pengujian\n",
        "X_train, X_test, y_train, y_test = train_test_split(features, schedule, test_size=0.2, random_state=42)"
      ],
      "metadata": {
        "id": "JZaqiM3MpJAB"
      },
      "execution_count": null,
      "outputs": []
    },
    {
      "cell_type": "code",
      "source": [
        "# Normalisasi fitur menggunakan StandardScaler\n",
        "scaler = StandardScaler()\n",
        "X_train_scaled = scaler.fit_transform(X_train)\n",
        "X_test_scaled = scaler.transform(X_test)"
      ],
      "metadata": {
        "id": "-EFow9A6pPTR"
      },
      "execution_count": null,
      "outputs": []
    },
    {
      "cell_type": "code",
      "source": [
        "# Buat model regresi linier menggunakan TensorFlow\n",
        "model = tf.keras.Sequential([\n",
        "    tf.keras.layers.Input(shape=(2,)),  # Sesuaikan dengan jumlah fitur Anda\n",
        "    tf.keras.layers.Dense(units=1)\n",
        "])"
      ],
      "metadata": {
        "id": "p4BJB7mjpR4p"
      },
      "execution_count": null,
      "outputs": []
    },
    {
      "cell_type": "code",
      "source": [
        "# Kompilasi model\n",
        "model.compile(optimizer='adam', loss='mean_squared_error')"
      ],
      "metadata": {
        "id": "4-wl_x2OpVUb"
      },
      "execution_count": null,
      "outputs": []
    },
    {
      "cell_type": "code",
      "source": [
        "# Latih model\n",
        "model.fit(X_train_scaled, y_train, epochs=100, batch_size=2, verbose=1)"
      ],
      "metadata": {
        "id": "9FxlzIjqpXyv",
        "colab": {
          "base_uri": "https://localhost:8080/"
        },
        "outputId": "093be607-6290-47a9-ab4e-93fe0e525210"
      },
      "execution_count": null,
      "outputs": [
        {
          "output_type": "stream",
          "name": "stdout",
          "text": [
            "Epoch 1/100\n",
            "2/2 [==============================] - 1s 18ms/step - loss: 132.1648\n",
            "Epoch 2/100\n",
            "2/2 [==============================] - 0s 11ms/step - loss: 132.0991\n",
            "Epoch 3/100\n",
            "2/2 [==============================] - 0s 7ms/step - loss: 132.0382\n",
            "Epoch 4/100\n",
            "2/2 [==============================] - 0s 8ms/step - loss: 131.9826\n",
            "Epoch 5/100\n",
            "2/2 [==============================] - 0s 7ms/step - loss: 131.9409\n",
            "Epoch 6/100\n",
            "2/2 [==============================] - 0s 7ms/step - loss: 131.8705\n",
            "Epoch 7/100\n",
            "2/2 [==============================] - 0s 7ms/step - loss: 131.8352\n",
            "Epoch 8/100\n",
            "2/2 [==============================] - 0s 7ms/step - loss: 131.7716\n",
            "Epoch 9/100\n",
            "2/2 [==============================] - 0s 7ms/step - loss: 131.7226\n",
            "Epoch 10/100\n",
            "2/2 [==============================] - 0s 7ms/step - loss: 131.6664\n",
            "Epoch 11/100\n",
            "2/2 [==============================] - 0s 11ms/step - loss: 131.6135\n",
            "Epoch 12/100\n",
            "2/2 [==============================] - 0s 9ms/step - loss: 131.5568\n",
            "Epoch 13/100\n",
            "2/2 [==============================] - 0s 8ms/step - loss: 131.5021\n",
            "Epoch 14/100\n",
            "2/2 [==============================] - 0s 7ms/step - loss: 131.4504\n",
            "Epoch 15/100\n",
            "2/2 [==============================] - 0s 8ms/step - loss: 131.4047\n",
            "Epoch 16/100\n",
            "2/2 [==============================] - 0s 7ms/step - loss: 131.3550\n",
            "Epoch 17/100\n",
            "2/2 [==============================] - 0s 7ms/step - loss: 131.3064\n",
            "Epoch 18/100\n",
            "2/2 [==============================] - 0s 7ms/step - loss: 131.2524\n",
            "Epoch 19/100\n",
            "2/2 [==============================] - 0s 7ms/step - loss: 131.1939\n",
            "Epoch 20/100\n",
            "2/2 [==============================] - 0s 9ms/step - loss: 131.1322\n",
            "Epoch 21/100\n",
            "2/2 [==============================] - 0s 8ms/step - loss: 131.0812\n",
            "Epoch 22/100\n",
            "2/2 [==============================] - 0s 8ms/step - loss: 131.0329\n",
            "Epoch 23/100\n",
            "2/2 [==============================] - 0s 8ms/step - loss: 130.9874\n",
            "Epoch 24/100\n",
            "2/2 [==============================] - 0s 13ms/step - loss: 130.9392\n",
            "Epoch 25/100\n",
            "2/2 [==============================] - 0s 8ms/step - loss: 130.8722\n",
            "Epoch 26/100\n",
            "2/2 [==============================] - 0s 10ms/step - loss: 130.8301\n",
            "Epoch 27/100\n",
            "2/2 [==============================] - 0s 7ms/step - loss: 130.7774\n",
            "Epoch 28/100\n",
            "2/2 [==============================] - 0s 8ms/step - loss: 130.7221\n",
            "Epoch 29/100\n",
            "2/2 [==============================] - 0s 7ms/step - loss: 130.6774\n",
            "Epoch 30/100\n",
            "2/2 [==============================] - 0s 9ms/step - loss: 130.6165\n",
            "Epoch 31/100\n",
            "2/2 [==============================] - 0s 10ms/step - loss: 130.5610\n",
            "Epoch 32/100\n",
            "2/2 [==============================] - 0s 8ms/step - loss: 130.5230\n",
            "Epoch 33/100\n",
            "2/2 [==============================] - 0s 10ms/step - loss: 130.4592\n",
            "Epoch 34/100\n",
            "2/2 [==============================] - 0s 10ms/step - loss: 130.4073\n",
            "Epoch 35/100\n",
            "2/2 [==============================] - 0s 8ms/step - loss: 130.3634\n",
            "Epoch 36/100\n",
            "2/2 [==============================] - 0s 8ms/step - loss: 130.2965\n",
            "Epoch 37/100\n",
            "2/2 [==============================] - 0s 10ms/step - loss: 130.2594\n",
            "Epoch 38/100\n",
            "2/2 [==============================] - 0s 10ms/step - loss: 130.1928\n",
            "Epoch 39/100\n",
            "2/2 [==============================] - 0s 8ms/step - loss: 130.1481\n",
            "Epoch 40/100\n",
            "2/2 [==============================] - 0s 12ms/step - loss: 130.0904\n",
            "Epoch 41/100\n",
            "2/2 [==============================] - 0s 9ms/step - loss: 130.0484\n",
            "Epoch 42/100\n",
            "2/2 [==============================] - 0s 10ms/step - loss: 130.0005\n",
            "Epoch 43/100\n",
            "2/2 [==============================] - 0s 8ms/step - loss: 129.9399\n",
            "Epoch 44/100\n",
            "2/2 [==============================] - 0s 10ms/step - loss: 129.8909\n",
            "Epoch 45/100\n",
            "2/2 [==============================] - 0s 8ms/step - loss: 129.8385\n",
            "Epoch 46/100\n",
            "2/2 [==============================] - 0s 11ms/step - loss: 129.7933\n",
            "Epoch 47/100\n",
            "2/2 [==============================] - 0s 9ms/step - loss: 129.7377\n",
            "Epoch 48/100\n",
            "2/2 [==============================] - 0s 10ms/step - loss: 129.6778\n",
            "Epoch 49/100\n",
            "2/2 [==============================] - 0s 9ms/step - loss: 129.6362\n",
            "Epoch 50/100\n",
            "2/2 [==============================] - 0s 9ms/step - loss: 129.5681\n",
            "Epoch 51/100\n",
            "2/2 [==============================] - 0s 9ms/step - loss: 129.5182\n",
            "Epoch 52/100\n",
            "2/2 [==============================] - 0s 8ms/step - loss: 129.4813\n",
            "Epoch 53/100\n",
            "2/2 [==============================] - 0s 7ms/step - loss: 129.4213\n",
            "Epoch 54/100\n",
            "2/2 [==============================] - 0s 7ms/step - loss: 129.3699\n",
            "Epoch 55/100\n",
            "2/2 [==============================] - 0s 9ms/step - loss: 129.3129\n",
            "Epoch 56/100\n",
            "2/2 [==============================] - 0s 8ms/step - loss: 129.2683\n",
            "Epoch 57/100\n",
            "2/2 [==============================] - 0s 9ms/step - loss: 129.2245\n",
            "Epoch 58/100\n",
            "2/2 [==============================] - 0s 9ms/step - loss: 129.1606\n",
            "Epoch 59/100\n",
            "2/2 [==============================] - 0s 7ms/step - loss: 129.1132\n",
            "Epoch 60/100\n",
            "2/2 [==============================] - 0s 7ms/step - loss: 129.0647\n",
            "Epoch 61/100\n",
            "2/2 [==============================] - 0s 11ms/step - loss: 129.0062\n",
            "Epoch 62/100\n",
            "2/2 [==============================] - 0s 8ms/step - loss: 128.9686\n",
            "Epoch 63/100\n",
            "2/2 [==============================] - 0s 10ms/step - loss: 128.9023\n",
            "Epoch 64/100\n",
            "2/2 [==============================] - 0s 10ms/step - loss: 128.8497\n",
            "Epoch 65/100\n",
            "2/2 [==============================] - 0s 9ms/step - loss: 128.8128\n",
            "Epoch 66/100\n",
            "2/2 [==============================] - 0s 8ms/step - loss: 128.7552\n",
            "Epoch 67/100\n",
            "2/2 [==============================] - 0s 8ms/step - loss: 128.7081\n",
            "Epoch 68/100\n",
            "2/2 [==============================] - 0s 7ms/step - loss: 128.6450\n",
            "Epoch 69/100\n",
            "2/2 [==============================] - 0s 9ms/step - loss: 128.5979\n",
            "Epoch 70/100\n",
            "2/2 [==============================] - 0s 9ms/step - loss: 128.5411\n",
            "Epoch 71/100\n",
            "2/2 [==============================] - 0s 7ms/step - loss: 128.4995\n",
            "Epoch 72/100\n",
            "2/2 [==============================] - 0s 12ms/step - loss: 128.4447\n",
            "Epoch 73/100\n",
            "2/2 [==============================] - 0s 7ms/step - loss: 128.3899\n",
            "Epoch 74/100\n",
            "2/2 [==============================] - 0s 9ms/step - loss: 128.3426\n",
            "Epoch 75/100\n",
            "2/2 [==============================] - 0s 7ms/step - loss: 128.2990\n",
            "Epoch 76/100\n",
            "2/2 [==============================] - 0s 7ms/step - loss: 128.2482\n",
            "Epoch 77/100\n",
            "2/2 [==============================] - 0s 10ms/step - loss: 128.1886\n",
            "Epoch 78/100\n",
            "2/2 [==============================] - 0s 7ms/step - loss: 128.1289\n",
            "Epoch 79/100\n",
            "2/2 [==============================] - 0s 6ms/step - loss: 128.0875\n",
            "Epoch 80/100\n",
            "2/2 [==============================] - 0s 7ms/step - loss: 128.0275\n",
            "Epoch 81/100\n",
            "2/2 [==============================] - 0s 7ms/step - loss: 127.9776\n",
            "Epoch 82/100\n",
            "2/2 [==============================] - 0s 6ms/step - loss: 127.9333\n",
            "Epoch 83/100\n",
            "2/2 [==============================] - 0s 6ms/step - loss: 127.8819\n",
            "Epoch 84/100\n",
            "2/2 [==============================] - 0s 6ms/step - loss: 127.8272\n",
            "Epoch 85/100\n",
            "2/2 [==============================] - 0s 7ms/step - loss: 127.7878\n",
            "Epoch 86/100\n",
            "2/2 [==============================] - 0s 8ms/step - loss: 127.7303\n",
            "Epoch 87/100\n",
            "2/2 [==============================] - 0s 6ms/step - loss: 127.6855\n",
            "Epoch 88/100\n",
            "2/2 [==============================] - 0s 7ms/step - loss: 127.6200\n",
            "Epoch 89/100\n",
            "2/2 [==============================] - 0s 7ms/step - loss: 127.5763\n",
            "Epoch 90/100\n",
            "2/2 [==============================] - 0s 9ms/step - loss: 127.5295\n",
            "Epoch 91/100\n",
            "2/2 [==============================] - 0s 8ms/step - loss: 127.4796\n",
            "Epoch 92/100\n",
            "2/2 [==============================] - 0s 9ms/step - loss: 127.4253\n",
            "Epoch 93/100\n",
            "2/2 [==============================] - 0s 6ms/step - loss: 127.3633\n",
            "Epoch 94/100\n",
            "2/2 [==============================] - 0s 6ms/step - loss: 127.3265\n",
            "Epoch 95/100\n",
            "2/2 [==============================] - 0s 8ms/step - loss: 127.2650\n",
            "Epoch 96/100\n",
            "2/2 [==============================] - 0s 9ms/step - loss: 127.2116\n",
            "Epoch 97/100\n",
            "2/2 [==============================] - 0s 7ms/step - loss: 127.1730\n",
            "Epoch 98/100\n",
            "2/2 [==============================] - 0s 9ms/step - loss: 127.1103\n",
            "Epoch 99/100\n",
            "2/2 [==============================] - 0s 8ms/step - loss: 127.0717\n",
            "Epoch 100/100\n",
            "2/2 [==============================] - 0s 8ms/step - loss: 127.0151\n"
          ]
        },
        {
          "output_type": "execute_result",
          "data": {
            "text/plain": [
              "<keras.src.callbacks.History at 0x7f7db04b2500>"
            ]
          },
          "metadata": {},
          "execution_count": 31
        }
      ]
    },
    {
      "cell_type": "code",
      "source": [
        "# Evaluasi model\n",
        "loss = model.evaluate(X_test_scaled, y_test)\n",
        "print(f'Loss on test data: {loss}')"
      ],
      "metadata": {
        "id": "W-AfsGHgpag_",
        "colab": {
          "base_uri": "https://localhost:8080/"
        },
        "outputId": "04cf2a2b-fe5b-47b1-8298-55983ea96dca"
      },
      "execution_count": null,
      "outputs": [
        {
          "output_type": "stream",
          "name": "stdout",
          "text": [
            "1/1 [==============================] - 0s 117ms/step - loss: 24.3039\n",
            "Loss on test data: 24.303930282592773\n"
          ]
        }
      ]
    },
    {
      "cell_type": "code",
      "source": [
        "# Prediksi jadwal untuk data baru\n",
        "new_data = np.array([[4, 1]])  # Gantilah dengan data baru Anda\n",
        "new_data_scaled = scaler.transform(new_data)\n",
        "prediction = model.predict(new_data_scaled)\n",
        "\n",
        "print(f'Predicted schedule: {prediction[0][0]} hours')"
      ],
      "metadata": {
        "id": "Us4aJkf3pcff",
        "colab": {
          "base_uri": "https://localhost:8080/"
        },
        "outputId": "d1522773-8c3e-413e-e919-196c5529685b"
      },
      "execution_count": null,
      "outputs": [
        {
          "output_type": "stream",
          "name": "stdout",
          "text": [
            "1/1 [==============================] - 0s 85ms/step\n",
            "Predicted schedule: -0.28324395418167114 hours\n"
          ]
        }
      ]
    }
  ]
}